{
 "cells": [
  {
   "cell_type": "code",
   "execution_count": 1,
   "metadata": {},
   "outputs": [],
   "source": [
    "from pyspark import SparkContext, SparkConf\n",
    "from pyspark.sql import SparkSession\n",
    "\n",
    "sparkConf = SparkConf()\n",
    "sparkConf.setMaster(\"local[*]\")\n",
    "sparkConf.setAppName(\"data_exploration_with_ros_hadoop\")\n",
    "sparkConf.set(\"spark.jars\", \"../lib/protobuf-java-3.3.0.jar,../lib/rosbaginputformat.jar,../lib/scala-library-2.11.8.jar\")\n",
    "\n",
    "spark = SparkSession.builder.config(conf=sparkConf).getOrCreate()\n",
    "sc = spark.sparkContext"
   ]
  },
  {
   "cell_type": "markdown",
   "metadata": {},
   "source": [
    "## Create an RDD from the Rosbag file\n",
    "**Note:** your HDFS address might differ."
   ]
  },
  {
   "cell_type": "code",
   "execution_count": 2,
   "metadata": {},
   "outputs": [],
   "source": [
    "fin = sc.newAPIHadoopFile(\n",
    "    path =             \"hdfs://127.0.0.1:9000/user/root/HMB_4.bag\",\n",
    "    inputFormatClass = \"de.valtech.foss.RosbagMapInputFormat\",\n",
    "    keyClass =         \"org.apache.hadoop.io.LongWritable\",\n",
    "    valueClass =       \"org.apache.hadoop.io.MapWritable\",\n",
    "    conf =             {\"RosbagInputFormat.chunkIdx\":\"/opt/ros_hadoop/master/dist/HMB_4.bag.idx.bin\"})"
   ]
  },
  {
   "cell_type": "markdown",
   "metadata": {},
   "source": [
    "## Interpret the Messages\n",
    "To interpret the messages we need the connections.\n",
    "\n",
    "We could get the connections as configuration as well. At the moment we decided to collect the connections into Spark driver in a dictionary and use it in the subsequent RDD actions. Note in the next version of the RosbagInputFormater alternative implementations will be given.\n",
    "\n",
    "### Collect the connections from all Spark partitions of the bag file into the Spark driver"
   ]
  },
  {
   "cell_type": "code",
   "execution_count": 3,
   "metadata": {},
   "outputs": [
    {
     "data": {
      "text/plain": [
       "['/right_camera/camera_info',\n",
       " '/fix',\n",
       " '/center_camera/image_color/compressed',\n",
       " '/ecef/',\n",
       " '/vehicle/steering_report',\n",
       " '/vehicle/brake_report',\n",
       " '/pressure',\n",
       " '/vehicle/gps/time',\n",
       " '/vehicle/joint_states',\n",
       " '/vehicle/suspension_report',\n",
       " '/vehicle/sonar_cloud',\n",
       " '/velodyne_packets',\n",
       " '/vehicle/surround_report',\n",
       " '/diagnostics',\n",
       " '/vehicle/brake_info_report',\n",
       " '/vehicle/imu/data_raw',\n",
       " '/time_reference',\n",
       " '/vehicle/gear_report',\n",
       " '/vehicle/throttle_report',\n",
       " '/vehicle/fuel_level_report',\n",
       " '/vehicle/gps/vel',\n",
       " '/imu/data',\n",
       " '/center_camera/camera_info',\n",
       " '/vehicle/filtered_accel',\n",
       " '/vehicle/wheel_speed_report',\n",
       " '/vehicle/twist_controller/parameter_descriptions',\n",
       " '/left_camera/image_color/compressed',\n",
       " '/can_bus_dbw/can_rx',\n",
       " '/vehicle/twist_controller/parameter_updates',\n",
       " '/vehicle/throttle_info_report',\n",
       " '/right_camera/image_color/compressed',\n",
       " '/vehicle/misc_1_report',\n",
       " '/vehicle/gps/fix',\n",
       " '/vehicle/tire_pressure_report',\n",
       " '/left_camera/camera_info',\n",
       " '/vehicle/dbw_enabled']"
      ]
     },
     "execution_count": 3,
     "metadata": {},
     "output_type": "execute_result"
    }
   ],
   "source": [
    "conn_a = fin.filter(lambda r: r[1]['header']['op'] == 7).map(lambda r: r[1]).collect()\n",
    "conn_d = {str(k['header']['topic']):k for k in conn_a}\n",
    "# see topic names\n",
    "conn_d.keys()"
   ]
  },
  {
   "cell_type": "markdown",
   "metadata": {},
   "source": [
    "### Load the python map functions from src/main/python/functions.py"
   ]
  },
  {
   "cell_type": "code",
   "execution_count": 4,
   "metadata": {},
   "outputs": [],
   "source": [
    "%run -i ../src/main/python/functions.py"
   ]
  },
  {
   "cell_type": "markdown",
   "metadata": {},
   "source": [
    "### Use of msg_map to apply a function on all messages\n",
    "Python **rosbag.bag** needs to be installed on all Spark workers.\n",
    "The msg_map function (from src/main/python/functions.py) takes three arguments:\n",
    "1. r = the message or RDD record Tuple\n",
    "2. func = a function (default str) to apply to the ROS message\n",
    "3. conn = a connection to specify what topic to process\n"
   ]
  },
  {
   "cell_type": "code",
   "execution_count": 5,
   "metadata": {},
   "outputs": [],
   "source": [
    "%matplotlib inline \n",
    "# use %matplotlib notebook in python3\n",
    "from functools import partial\n",
    "import pandas as pd\n",
    "import numpy as np"
   ]
  },
  {
   "cell_type": "markdown",
   "metadata": {},
   "source": [
    "### Aggregate acceleration statistics"
   ]
  },
  {
   "cell_type": "code",
   "execution_count": 6,
   "metadata": {},
   "outputs": [],
   "source": [
    "%matplotlib inline\n",
    "import matplotlib.pylab as plt\n",
    "import seaborn as sns\n",
    "from pyspark.sql import types as T\n",
    "import yaml\n",
    "sns.set_style('whitegrid')\n",
    "sns.set_context('talk')"
   ]
  },
  {
   "cell_type": "code",
   "execution_count": 7,
   "metadata": {},
   "outputs": [
    {
     "data": {
      "text/html": [
       "<div>\n",
       "<style scoped>\n",
       "    .dataframe tbody tr th:only-of-type {\n",
       "        vertical-align: middle;\n",
       "    }\n",
       "\n",
       "    .dataframe tbody tr th {\n",
       "        vertical-align: top;\n",
       "    }\n",
       "\n",
       "    .dataframe thead th {\n",
       "        text-align: right;\n",
       "    }\n",
       "</style>\n",
       "<table border=\"1\" class=\"dataframe\">\n",
       "  <thead>\n",
       "    <tr style=\"text-align: right;\">\n",
       "      <th></th>\n",
       "      <th>seq</th>\n",
       "      <th>secs</th>\n",
       "      <th>nsecs</th>\n",
       "      <th>orientation_x</th>\n",
       "      <th>orientation_y</th>\n",
       "      <th>orientation_z</th>\n",
       "      <th>angular_velocity_x</th>\n",
       "      <th>angular_velocity_y</th>\n",
       "      <th>angular_velocity_z</th>\n",
       "      <th>linear_acceleration_x</th>\n",
       "      <th>linear_acceleration_y</th>\n",
       "      <th>linear_acceleration_z</th>\n",
       "    </tr>\n",
       "  </thead>\n",
       "  <tbody>\n",
       "    <tr>\n",
       "      <th>0</th>\n",
       "      <td>1701626</td>\n",
       "      <td>1479425728</td>\n",
       "      <td>747487068</td>\n",
       "      <td>-0.025143</td>\n",
       "      <td>0.028464</td>\n",
       "      <td>-0.093654</td>\n",
       "      <td>0.0</td>\n",
       "      <td>0.0</td>\n",
       "      <td>0.0</td>\n",
       "      <td>1.160419</td>\n",
       "      <td>0.595418</td>\n",
       "      <td>10.756533</td>\n",
       "    </tr>\n",
       "    <tr>\n",
       "      <th>1</th>\n",
       "      <td>1701627</td>\n",
       "      <td>1479425728</td>\n",
       "      <td>750332117</td>\n",
       "      <td>-0.025204</td>\n",
       "      <td>0.028431</td>\n",
       "      <td>-0.093677</td>\n",
       "      <td>0.0</td>\n",
       "      <td>0.0</td>\n",
       "      <td>0.0</td>\n",
       "      <td>0.946552</td>\n",
       "      <td>0.521104</td>\n",
       "      <td>11.197094</td>\n",
       "    </tr>\n",
       "    <tr>\n",
       "      <th>2</th>\n",
       "      <td>1701628</td>\n",
       "      <td>1479425728</td>\n",
       "      <td>751904010</td>\n",
       "      <td>-0.025233</td>\n",
       "      <td>0.028396</td>\n",
       "      <td>-0.093676</td>\n",
       "      <td>0.0</td>\n",
       "      <td>0.0</td>\n",
       "      <td>0.0</td>\n",
       "      <td>0.726597</td>\n",
       "      <td>0.395636</td>\n",
       "      <td>11.612808</td>\n",
       "    </tr>\n",
       "    <tr>\n",
       "      <th>3</th>\n",
       "      <td>1701629</td>\n",
       "      <td>1479425728</td>\n",
       "      <td>753854990</td>\n",
       "      <td>-0.025238</td>\n",
       "      <td>0.028357</td>\n",
       "      <td>-0.093686</td>\n",
       "      <td>0.0</td>\n",
       "      <td>0.0</td>\n",
       "      <td>0.0</td>\n",
       "      <td>0.493483</td>\n",
       "      <td>0.521169</td>\n",
       "      <td>11.860813</td>\n",
       "    </tr>\n",
       "    <tr>\n",
       "      <th>4</th>\n",
       "      <td>1701630</td>\n",
       "      <td>1479425728</td>\n",
       "      <td>754970073</td>\n",
       "      <td>-0.025229</td>\n",
       "      <td>0.028320</td>\n",
       "      <td>-0.093705</td>\n",
       "      <td>0.0</td>\n",
       "      <td>0.0</td>\n",
       "      <td>0.0</td>\n",
       "      <td>0.381820</td>\n",
       "      <td>0.490791</td>\n",
       "      <td>11.686852</td>\n",
       "    </tr>\n",
       "  </tbody>\n",
       "</table>\n",
       "</div>"
      ],
      "text/plain": [
       "       seq        secs      nsecs  orientation_x  orientation_y  \\\n",
       "0  1701626  1479425728  747487068      -0.025143       0.028464   \n",
       "1  1701627  1479425728  750332117      -0.025204       0.028431   \n",
       "2  1701628  1479425728  751904010      -0.025233       0.028396   \n",
       "3  1701629  1479425728  753854990      -0.025238       0.028357   \n",
       "4  1701630  1479425728  754970073      -0.025229       0.028320   \n",
       "\n",
       "   orientation_z  angular_velocity_x  angular_velocity_y  angular_velocity_z  \\\n",
       "0      -0.093654                 0.0                 0.0                 0.0   \n",
       "1      -0.093677                 0.0                 0.0                 0.0   \n",
       "2      -0.093676                 0.0                 0.0                 0.0   \n",
       "3      -0.093686                 0.0                 0.0                 0.0   \n",
       "4      -0.093705                 0.0                 0.0                 0.0   \n",
       "\n",
       "   linear_acceleration_x  linear_acceleration_y  linear_acceleration_z  \n",
       "0               1.160419               0.595418              10.756533  \n",
       "1               0.946552               0.521104              11.197094  \n",
       "2               0.726597               0.395636              11.612808  \n",
       "3               0.493483               0.521169              11.860813  \n",
       "4               0.381820               0.490791              11.686852  "
      ]
     },
     "execution_count": 7,
     "metadata": {},
     "output_type": "execute_result"
    }
   ],
   "source": [
    "schema = T.StructType()\n",
    "schema = schema.add(T.StructField('seq',T.IntegerType()))\n",
    "schema = schema.add(T.StructField('secs',T.IntegerType()))\n",
    "schema = schema.add(T.StructField('nsecs',T.IntegerType()))\n",
    "schema = schema.add(T.StructField('orientation_x',T.DoubleType()))\n",
    "schema = schema.add(T.StructField('orientation_y',T.DoubleType()))\n",
    "schema = schema.add(T.StructField('orientation_z',T.DoubleType()))\n",
    "schema = schema.add(T.StructField('angular_velocity_x',T.DoubleType()))\n",
    "schema = schema.add(T.StructField('angular_velocity_y',T.DoubleType()))\n",
    "schema = schema.add(T.StructField('angular_velocity_z',T.DoubleType()))\n",
    "schema = schema.add(T.StructField('linear_acceleration_x',T.DoubleType()))\n",
    "schema = schema.add(T.StructField('linear_acceleration_y',T.DoubleType()))\n",
    "schema = schema.add(T.StructField('linear_acceleration_z',T.DoubleType()))\n",
    "\n",
    "def get_time_and_acc(r):\n",
    "    return (r.header.seq,\n",
    "            r.header.stamp.secs,\n",
    "            r.header.stamp.nsecs,\n",
    "            r.orientation.x,\n",
    "            r.orientation.y,\n",
    "            r.orientation.z,\n",
    "            r.angular_velocity.x,\n",
    "            r.angular_velocity.y,\n",
    "            r.angular_velocity.z,\n",
    "            r.linear_acceleration.x,\n",
    "            r.linear_acceleration.y,\n",
    "            r.linear_acceleration.z,\n",
    "           )\n",
    "\n",
    "pdf_acc = spark.createDataFrame(fin\n",
    "                             .flatMap(partial(msg_map, func=get_time_and_acc, conn=conn_d['/imu/data'])),\n",
    "                             schema=schema).toPandas()\n",
    "pdf_acc.head()"
   ]
  },
  {
   "cell_type": "code",
   "execution_count": 8,
   "metadata": {},
   "outputs": [
    {
     "data": {
      "image/png": "[encoded data removed]",
      "text/plain": [
       "<Figure size 720x576 with 1 Axes>"
      ]
     },
     "metadata": {},
     "output_type": "display_data"
    }
   ],
   "source": [
    "xbins = np.arange(-5,5,0.2)\n",
    "ybins = np.arange(-5,5,0.2)\n",
    "\n",
    "h,_,_ = np.histogram2d(pdf_acc.linear_acceleration_x,pdf_acc.linear_acceleration_y, bins=(xbins,ybins))\n",
    "h[h == 0] = np.NaN\n",
    "\n",
    "fig, ax = plt.subplots(figsize=(10,8))\n",
    "plt.imshow(h.T,extent=[xbins[0],xbins[-1],ybins[0],ybins[-1]],origin='lower',interpolation='nearest')\n",
    "#plt.colorbar()\n",
    "plt.xlabel(r'Acceleration x [m/s^2]')\n",
    "plt.ylabel('Acceleration y [m/s^2]')\n",
    "plt.title('Raw IMU Acceleration distribution');"
   ]
  },
  {
   "cell_type": "markdown",
   "metadata": {},
   "source": [
    "### Visualize track in Google maps\n",
    "\n",
    "You have to apply for an Google Maps API key to execute this section, cf.\n",
    "https://developers.google.com/maps/documentation/javascript/get-api-key\n",
    "\n",
    "Add your key to the next cell:"
   ]
  },
  {
   "cell_type": "code",
   "execution_count": 9,
   "metadata": {},
   "outputs": [],
   "source": [
    "import gmaps\n",
    "gmaps.configure('AI...')"
   ]
  },
  {
   "cell_type": "code",
   "execution_count": 10,
   "metadata": {},
   "outputs": [
    {
     "data": {
      "text/html": [
       "<div>\n",
       "<style scoped>\n",
       "    .dataframe tbody tr th:only-of-type {\n",
       "        vertical-align: middle;\n",
       "    }\n",
       "\n",
       "    .dataframe tbody tr th {\n",
       "        vertical-align: top;\n",
       "    }\n",
       "\n",
       "    .dataframe thead th {\n",
       "        text-align: right;\n",
       "    }\n",
       "</style>\n",
       "<table border=\"1\" class=\"dataframe\">\n",
       "  <thead>\n",
       "    <tr style=\"text-align: right;\">\n",
       "      <th></th>\n",
       "      <th>seq</th>\n",
       "      <th>secs</th>\n",
       "      <th>nsecs</th>\n",
       "      <th>latitude</th>\n",
       "      <th>longitude</th>\n",
       "      <th>altitude</th>\n",
       "      <th>status_service</th>\n",
       "      <th>status_status</th>\n",
       "    </tr>\n",
       "  </thead>\n",
       "  <tbody>\n",
       "    <tr>\n",
       "      <th>0</th>\n",
       "      <td>7097</td>\n",
       "      <td>1479425729</td>\n",
       "      <td>563822067</td>\n",
       "      <td>37.492877</td>\n",
       "      <td>-122.382496</td>\n",
       "      <td>6.0</td>\n",
       "      <td>1</td>\n",
       "      <td>0</td>\n",
       "    </tr>\n",
       "    <tr>\n",
       "      <th>1</th>\n",
       "      <td>7098</td>\n",
       "      <td>1479425730</td>\n",
       "      <td>574133751</td>\n",
       "      <td>37.492912</td>\n",
       "      <td>-122.382251</td>\n",
       "      <td>6.0</td>\n",
       "      <td>1</td>\n",
       "      <td>0</td>\n",
       "    </tr>\n",
       "    <tr>\n",
       "      <th>2</th>\n",
       "      <td>7099</td>\n",
       "      <td>1479425731</td>\n",
       "      <td>563593839</td>\n",
       "      <td>37.492949</td>\n",
       "      <td>-122.381995</td>\n",
       "      <td>6.0</td>\n",
       "      <td>1</td>\n",
       "      <td>0</td>\n",
       "    </tr>\n",
       "    <tr>\n",
       "      <th>3</th>\n",
       "      <td>7100</td>\n",
       "      <td>1479425732</td>\n",
       "      <td>563785775</td>\n",
       "      <td>37.492984</td>\n",
       "      <td>-122.381749</td>\n",
       "      <td>6.0</td>\n",
       "      <td>1</td>\n",
       "      <td>0</td>\n",
       "    </tr>\n",
       "    <tr>\n",
       "      <th>4</th>\n",
       "      <td>7101</td>\n",
       "      <td>1479425733</td>\n",
       "      <td>563699605</td>\n",
       "      <td>37.493019</td>\n",
       "      <td>-122.381504</td>\n",
       "      <td>6.0</td>\n",
       "      <td>1</td>\n",
       "      <td>0</td>\n",
       "    </tr>\n",
       "  </tbody>\n",
       "</table>\n",
       "</div>"
      ],
      "text/plain": [
       "    seq        secs      nsecs   latitude   longitude  altitude  \\\n",
       "0  7097  1479425729  563822067  37.492877 -122.382496       6.0   \n",
       "1  7098  1479425730  574133751  37.492912 -122.382251       6.0   \n",
       "2  7099  1479425731  563593839  37.492949 -122.381995       6.0   \n",
       "3  7100  1479425732  563785775  37.492984 -122.381749       6.0   \n",
       "4  7101  1479425733  563699605  37.493019 -122.381504       6.0   \n",
       "\n",
       "   status_service  status_status  \n",
       "0               1              0  \n",
       "1               1              0  \n",
       "2               1              0  \n",
       "3               1              0  \n",
       "4               1              0  "
      ]
     },
     "execution_count": 10,
     "metadata": {},
     "output_type": "execute_result"
    }
   ],
   "source": [
    "schema = T.StructType()\n",
    "schema = schema.add(T.StructField('seq',T.IntegerType()))\n",
    "schema = schema.add(T.StructField('secs',T.IntegerType()))\n",
    "schema = schema.add(T.StructField('nsecs',T.IntegerType()))\n",
    "schema = schema.add(T.StructField('latitude',T.DoubleType()))\n",
    "schema = schema.add(T.StructField('longitude',T.DoubleType()))\n",
    "schema = schema.add(T.StructField('altitude',T.DoubleType()))\n",
    "schema = schema.add(T.StructField('status_service',T.IntegerType()))\n",
    "schema = schema.add(T.StructField('status_status',T.IntegerType()))\n",
    "\n",
    "\n",
    "def get_gps(r):\n",
    "    return (r.header.seq,\n",
    "            r.header.stamp.secs,\n",
    "            r.header.stamp.nsecs,\n",
    "            r.latitude,\n",
    "            r.longitude,\n",
    "            r.altitude,\n",
    "            r.status.service,\n",
    "            r.status.status\n",
    "           )\n",
    "\n",
    "pdf_gps = spark.createDataFrame(\n",
    "    fin\n",
    "    .flatMap(partial(msg_map, func=get_gps, conn=conn_d['/vehicle/gps/fix'])),\n",
    "    schema=schema\n",
    ").toPandas()\n",
    "\n",
    "pdf_gps.head()"
   ]
  },
  {
   "cell_type": "code",
   "execution_count": 11,
   "metadata": {},
   "outputs": [
    {
     "data": {
      "image/png": "[encoded data removed]",
      "text/plain": [
       "<Figure size 432x288 with 1 Axes>"
      ]
     },
     "metadata": {},
     "output_type": "display_data"
    }
   ],
   "source": [
    "fig, ax = plt.subplots()\n",
    "pdf_gps.sort_values('secs').plot('longitude','latitude',ax=ax, legend=False)\n",
    "plt.xlabel('Longitude')\n",
    "plt.ylabel('Latitude');"
   ]
  },
  {
   "cell_type": "code",
   "execution_count": 12,
   "metadata": {},
   "outputs": [
    {
     "data": {
      "application/vnd.jupyter.widget-view+json": {
       "model_id": "99106d6099fe4f5da2fd7ce98c2c8522",
       "version_major": 2,
       "version_minor": 0
      },
      "text/plain": [
       "Figure(layout=FigureLayout(height=u'420px'))"
      ]
     },
     "metadata": {},
     "output_type": "display_data"
    }
   ],
   "source": [
    "c='rgba(0,0,150,0.3)'\n",
    "\n",
    "fig = gmaps.figure(center=(pdf_gps.latitude.mean(),pdf_gps.longitude.mean()), zoom_level=14)\n",
    "track = gmaps.symbol_layer(pdf_gps[['latitude','longitude']], fill_color=c, stroke_color=c, scale=2)\n",
    "fig.add_layer(track)\n",
    "fig"
   ]
  },
  {
   "cell_type": "markdown",
   "metadata": {},
   "source": [
    "Output of this cell would look like this\n",
    "![](./map.png)"
   ]
  },
  {
   "cell_type": "markdown",
   "metadata": {},
   "source": [
    "### Steering angle and speed"
   ]
  },
  {
   "cell_type": "code",
   "execution_count": 13,
   "metadata": {},
   "outputs": [],
   "source": [
    "from pyspark.sql import Row\n",
    "from datetime import datetime"
   ]
  },
  {
   "cell_type": "code",
   "execution_count": 14,
   "metadata": {},
   "outputs": [
    {
     "data": {
      "text/html": [
       "<div>\n",
       "<style scoped>\n",
       "    .dataframe tbody tr th:only-of-type {\n",
       "        vertical-align: middle;\n",
       "    }\n",
       "\n",
       "    .dataframe tbody tr th {\n",
       "        vertical-align: top;\n",
       "    }\n",
       "\n",
       "    .dataframe thead th {\n",
       "        text-align: right;\n",
       "    }\n",
       "</style>\n",
       "<table border=\"1\" class=\"dataframe\">\n",
       "  <thead>\n",
       "    <tr style=\"text-align: right;\">\n",
       "      <th></th>\n",
       "      <th>driver</th>\n",
       "      <th>enabled</th>\n",
       "      <th>fault_bus1</th>\n",
       "      <th>fault_bus2</th>\n",
       "      <th>fault_calibration</th>\n",
       "      <th>fault_connector</th>\n",
       "      <th>fault_wdc</th>\n",
       "      <th>header</th>\n",
       "      <th>override</th>\n",
       "      <th>speed</th>\n",
       "      <th>steering_wheel_angle</th>\n",
       "      <th>steering_wheel_angle_cmd</th>\n",
       "      <th>steering_wheel_torque</th>\n",
       "      <th>secs</th>\n",
       "    </tr>\n",
       "    <tr>\n",
       "      <th>secs</th>\n",
       "      <th></th>\n",
       "      <th></th>\n",
       "      <th></th>\n",
       "      <th></th>\n",
       "      <th></th>\n",
       "      <th></th>\n",
       "      <th></th>\n",
       "      <th></th>\n",
       "      <th></th>\n",
       "      <th></th>\n",
       "      <th></th>\n",
       "      <th></th>\n",
       "      <th></th>\n",
       "      <th></th>\n",
       "    </tr>\n",
       "  </thead>\n",
       "  <tbody>\n",
       "    <tr>\n",
       "      <th>2016-11-17 23:35:28.762169</th>\n",
       "      <td>False</td>\n",
       "      <td>False</td>\n",
       "      <td>False</td>\n",
       "      <td>False</td>\n",
       "      <td>False</td>\n",
       "      <td>True</td>\n",
       "      <td>False</td>\n",
       "      <td>{u'stamp': {u'secs': 1479425728, u'nsecs': 762...</td>\n",
       "      <td>False</td>\n",
       "      <td>22.505556</td>\n",
       "      <td>0.026180</td>\n",
       "      <td>0.0</td>\n",
       "      <td>0.1875</td>\n",
       "      <td>1.479426e+09</td>\n",
       "    </tr>\n",
       "    <tr>\n",
       "      <th>2016-11-17 23:35:28.782174</th>\n",
       "      <td>False</td>\n",
       "      <td>False</td>\n",
       "      <td>False</td>\n",
       "      <td>False</td>\n",
       "      <td>False</td>\n",
       "      <td>True</td>\n",
       "      <td>False</td>\n",
       "      <td>{u'stamp': {u'secs': 1479425728, u'nsecs': 782...</td>\n",
       "      <td>False</td>\n",
       "      <td>22.508333</td>\n",
       "      <td>0.026180</td>\n",
       "      <td>0.0</td>\n",
       "      <td>0.2500</td>\n",
       "      <td>1.479426e+09</td>\n",
       "    </tr>\n",
       "    <tr>\n",
       "      <th>2016-11-17 23:35:28.802231</th>\n",
       "      <td>False</td>\n",
       "      <td>False</td>\n",
       "      <td>False</td>\n",
       "      <td>False</td>\n",
       "      <td>False</td>\n",
       "      <td>True</td>\n",
       "      <td>False</td>\n",
       "      <td>{u'stamp': {u'secs': 1479425728, u'nsecs': 802...</td>\n",
       "      <td>False</td>\n",
       "      <td>22.508333</td>\n",
       "      <td>0.024435</td>\n",
       "      <td>0.0</td>\n",
       "      <td>0.3125</td>\n",
       "      <td>1.479426e+09</td>\n",
       "    </tr>\n",
       "    <tr>\n",
       "      <th>2016-11-17 23:35:28.822261</th>\n",
       "      <td>False</td>\n",
       "      <td>False</td>\n",
       "      <td>False</td>\n",
       "      <td>False</td>\n",
       "      <td>False</td>\n",
       "      <td>True</td>\n",
       "      <td>False</td>\n",
       "      <td>{u'stamp': {u'secs': 1479425728, u'nsecs': 822...</td>\n",
       "      <td>False</td>\n",
       "      <td>22.505556</td>\n",
       "      <td>0.024435</td>\n",
       "      <td>0.0</td>\n",
       "      <td>0.3750</td>\n",
       "      <td>1.479426e+09</td>\n",
       "    </tr>\n",
       "    <tr>\n",
       "      <th>2016-11-17 23:35:28.842307</th>\n",
       "      <td>False</td>\n",
       "      <td>False</td>\n",
       "      <td>False</td>\n",
       "      <td>False</td>\n",
       "      <td>False</td>\n",
       "      <td>True</td>\n",
       "      <td>False</td>\n",
       "      <td>{u'stamp': {u'secs': 1479425728, u'nsecs': 842...</td>\n",
       "      <td>False</td>\n",
       "      <td>22.500000</td>\n",
       "      <td>0.024435</td>\n",
       "      <td>0.0</td>\n",
       "      <td>0.3750</td>\n",
       "      <td>1.479426e+09</td>\n",
       "    </tr>\n",
       "  </tbody>\n",
       "</table>\n",
       "</div>"
      ],
      "text/plain": [
       "                            driver  enabled  fault_bus1  fault_bus2  \\\n",
       "secs                                                                  \n",
       "2016-11-17 23:35:28.762169   False    False       False       False   \n",
       "2016-11-17 23:35:28.782174   False    False       False       False   \n",
       "2016-11-17 23:35:28.802231   False    False       False       False   \n",
       "2016-11-17 23:35:28.822261   False    False       False       False   \n",
       "2016-11-17 23:35:28.842307   False    False       False       False   \n",
       "\n",
       "                            fault_calibration  fault_connector  fault_wdc  \\\n",
       "secs                                                                        \n",
       "2016-11-17 23:35:28.762169              False             True      False   \n",
       "2016-11-17 23:35:28.782174              False             True      False   \n",
       "2016-11-17 23:35:28.802231              False             True      False   \n",
       "2016-11-17 23:35:28.822261              False             True      False   \n",
       "2016-11-17 23:35:28.842307              False             True      False   \n",
       "\n",
       "                                                                       header  \\\n",
       "secs                                                                            \n",
       "2016-11-17 23:35:28.762169  {u'stamp': {u'secs': 1479425728, u'nsecs': 762...   \n",
       "2016-11-17 23:35:28.782174  {u'stamp': {u'secs': 1479425728, u'nsecs': 782...   \n",
       "2016-11-17 23:35:28.802231  {u'stamp': {u'secs': 1479425728, u'nsecs': 802...   \n",
       "2016-11-17 23:35:28.822261  {u'stamp': {u'secs': 1479425728, u'nsecs': 822...   \n",
       "2016-11-17 23:35:28.842307  {u'stamp': {u'secs': 1479425728, u'nsecs': 842...   \n",
       "\n",
       "                            override      speed  steering_wheel_angle  \\\n",
       "secs                                                                    \n",
       "2016-11-17 23:35:28.762169     False  22.505556              0.026180   \n",
       "2016-11-17 23:35:28.782174     False  22.508333              0.026180   \n",
       "2016-11-17 23:35:28.802231     False  22.508333              0.024435   \n",
       "2016-11-17 23:35:28.822261     False  22.505556              0.024435   \n",
       "2016-11-17 23:35:28.842307     False  22.500000              0.024435   \n",
       "\n",
       "                            steering_wheel_angle_cmd  steering_wheel_torque  \\\n",
       "secs                                                                          \n",
       "2016-11-17 23:35:28.762169                       0.0                 0.1875   \n",
       "2016-11-17 23:35:28.782174                       0.0                 0.2500   \n",
       "2016-11-17 23:35:28.802231                       0.0                 0.3125   \n",
       "2016-11-17 23:35:28.822261                       0.0                 0.3750   \n",
       "2016-11-17 23:35:28.842307                       0.0                 0.3750   \n",
       "\n",
       "                                    secs  \n",
       "secs                                      \n",
       "2016-11-17 23:35:28.762169  1.479426e+09  \n",
       "2016-11-17 23:35:28.782174  1.479426e+09  \n",
       "2016-11-17 23:35:28.802231  1.479426e+09  \n",
       "2016-11-17 23:35:28.822261  1.479426e+09  \n",
       "2016-11-17 23:35:28.842307  1.479426e+09  "
      ]
     },
     "execution_count": 14,
     "metadata": {},
     "output_type": "execute_result"
    }
   ],
   "source": [
    "pdf_steering = spark.createDataFrame(fin.flatMap(partial(msg_map, func=lambda r: Row(**yaml.load(str(r))), conn=conn_d['/vehicle/steering_report']))).toPandas()\n",
    "pdf_steering['secs'] = pdf_steering.header.map(lambda r: r['stamp']['secs']+r['stamp']['nsecs']*1e-9 )\n",
    "pdf_steering = pdf_steering.set_index(pdf_steering.secs.map(datetime.fromtimestamp))\n",
    "pdf_steering.head()"
   ]
  },
  {
   "cell_type": "code",
   "execution_count": 15,
   "metadata": {},
   "outputs": [
    {
     "data": {
      "image/png": "[encoded data removed]",
      "text/plain": [
       "<Figure size 720x576 with 2 Axes>"
      ]
     },
     "metadata": {},
     "output_type": "display_data"
    }
   ],
   "source": [
    "fig, axes = plt.subplots(2,1,figsize=(10,8))\n",
    "pdf_steering.speed.plot(ax=axes[0])\n",
    "pdf_steering.steering_wheel_angle.plot(ax=axes[1])\n",
    "\n",
    "axes[0].set_xlabel('')\n",
    "axes[0].set_ylabel('Speed [mph]')\n",
    "axes[0].set_xticklabels('')\n",
    "axes[1].set_xlabel('Datetime UTC')\n",
    "axes[1].set_ylabel('Steering wheel angle [%]');"
   ]
  },
  {
   "cell_type": "code",
   "execution_count": 16,
   "metadata": {},
   "outputs": [
    {
     "data": {
      "image/png": "[encoded data removed]",
      "text/plain": [
       "<Figure size 432x288 with 1 Axes>"
      ]
     },
     "metadata": {},
     "output_type": "display_data"
    }
   ],
   "source": [
    "pdf_steering.plot('speed','steering_wheel_angle',style='.');"
   ]
  },
  {
   "cell_type": "markdown",
   "metadata": {},
   "source": [
    "### Machine Learning models on Spark workers\n",
    "A dot product Keras \"model\" for each message from a topic. We will compare it with the one computed with numpy.\n",
    "\n",
    "**Note** that the imports happen in the workers and not in driver. On the other hand the connection dictionary is sent over the closure."
   ]
  },
  {
   "cell_type": "code",
   "execution_count": 17,
   "metadata": {},
   "outputs": [
    {
     "data": {
      "text/plain": [
       "[(array([-0.07,  0.  ,  0.  ]), array([[-0.07]], dtype=float32)),\n",
       " (array([-0.06,  0.  ,  0.  ]), array([[-0.06]], dtype=float32)),\n",
       " (array([-0.04,  0.  ,  0.  ]), array([[-0.04]], dtype=float32)),\n",
       " (array([-0.05,  0.  ,  0.  ]), array([[-0.05]], dtype=float32)),\n",
       " (array([-0.09,  0.  ,  0.  ]), array([[-0.09]], dtype=float32))]"
      ]
     },
     "execution_count": 17,
     "metadata": {},
     "output_type": "execute_result"
    }
   ],
   "source": [
    "def f(msg):\n",
    "    from keras.layers import dot, Dot, Input\n",
    "    from keras.models import Model\n",
    "    \n",
    "    linear_acceleration = {\n",
    "        'x': msg.linear_acceleration.x,\n",
    "        'y': msg.linear_acceleration.y,\n",
    "        'z': msg.linear_acceleration.z,\n",
    "    }\n",
    "    \n",
    "    linear_acceleration_covariance = np.array(msg.linear_acceleration_covariance)\n",
    "    \n",
    "    i1 = Input(shape=(3,))\n",
    "    i2 = Input(shape=(3,))\n",
    "    o = dot([i1,i2], axes=1)\n",
    "    \n",
    "    model = Model([i1,i2], o)\n",
    "    \n",
    "    # return a tuple with (numpy dot product, keras dot \"predict\")\n",
    "    return (\n",
    "        np.dot(linear_acceleration_covariance.reshape(3,3), \n",
    "               [linear_acceleration['x'], linear_acceleration['y'], linear_acceleration['z']]),\n",
    "        model.predict([\n",
    "            np.array([[ linear_acceleration['x'], linear_acceleration['y'], linear_acceleration['z'] ]]),\n",
    "            linear_acceleration_covariance.reshape((3,3))])\n",
    "    )\n",
    "\n",
    "fin.flatMap(partial(msg_map, func=f, conn=conn_d['/vehicle/imu/data_raw'])).take(5)\n",
    "\n",
    "# tuple with (numpy dot product, keras dot \"predict\")"
   ]
  },
  {
   "cell_type": "markdown",
   "metadata": {},
   "source": [
    "One can of course sample and collect the data in the driver to train a model.\n",
    "\n",
    "Note that the msg is the most granular unit but you could of course replace the flatMap with a **mapPartitions**\n",
    "\n",
    "Another option would be to have a map.reduceByKey before the flatMap so that the function argument would be a whole interval instead of a msg."
   ]
  }
 ],
 "metadata": {
  "kernelspec": {
   "display_name": "Python 2",
   "language": "python",
   "name": "python2"
  },
  "language_info": {
   "codemirror_mode": {
    "name": "ipython",
    "version": 2
   },
   "file_extension": ".py",
   "mimetype": "text/x-python",
   "name": "python",
   "nbconvert_exporter": "python",
   "pygments_lexer": "ipython2",
   "version": "2.7.12"
  }
 },
 "nbformat": 4,
 "nbformat_minor": 2
}
